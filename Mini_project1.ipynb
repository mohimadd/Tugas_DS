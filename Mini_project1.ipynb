{
 "cells": [
  {
   "cell_type": "markdown",
   "metadata": {
    "id": "QMOmhStemyTQ"
   },
   "source": [
    "IMPORT LIBRARY"
   ]
  },
  {
   "cell_type": "code",
   "execution_count": 69,
   "metadata": {
    "id": "xHozIX1pen90"
   },
   "outputs": [],
   "source": [
    "import pandas as pd\n",
    "import matplotlib.pyplot as plt\n",
    "#%matplotlib inline\n",
    "import seaborn as sns"
   ]
  },
  {
   "cell_type": "code",
   "execution_count": 70,
   "metadata": {
    "scrolled": true
   },
   "outputs": [
    {
     "name": "stdout",
     "output_type": "stream",
     "text": [
      "Requirement already satisfied: seaborn in c:\\users\\user\\appdata\\local\\programs\\python\\python312\\lib\\site-packages (0.13.2)\n",
      "Requirement already satisfied: numpy!=1.24.0,>=1.20 in c:\\users\\user\\appdata\\local\\programs\\python\\python312\\lib\\site-packages (from seaborn) (2.1.0)\n",
      "Requirement already satisfied: pandas>=1.2 in c:\\users\\user\\appdata\\local\\programs\\python\\python312\\lib\\site-packages (from seaborn) (2.2.2)\n",
      "Requirement already satisfied: matplotlib!=3.6.1,>=3.4 in c:\\users\\user\\appdata\\local\\programs\\python\\python312\\lib\\site-packages (from seaborn) (3.9.2)\n",
      "Requirement already satisfied: contourpy>=1.0.1 in c:\\users\\user\\appdata\\local\\programs\\python\\python312\\lib\\site-packages (from matplotlib!=3.6.1,>=3.4->seaborn) (1.2.1)\n",
      "Requirement already satisfied: cycler>=0.10 in c:\\users\\user\\appdata\\local\\programs\\python\\python312\\lib\\site-packages (from matplotlib!=3.6.1,>=3.4->seaborn) (0.12.1)\n",
      "Requirement already satisfied: fonttools>=4.22.0 in c:\\users\\user\\appdata\\local\\programs\\python\\python312\\lib\\site-packages (from matplotlib!=3.6.1,>=3.4->seaborn) (4.53.1)\n",
      "Requirement already satisfied: kiwisolver>=1.3.1 in c:\\users\\user\\appdata\\local\\programs\\python\\python312\\lib\\site-packages (from matplotlib!=3.6.1,>=3.4->seaborn) (1.4.5)\n",
      "Requirement already satisfied: packaging>=20.0 in c:\\users\\user\\appdata\\local\\programs\\python\\python312\\lib\\site-packages (from matplotlib!=3.6.1,>=3.4->seaborn) (24.1)\n",
      "Requirement already satisfied: pillow>=8 in c:\\users\\user\\appdata\\local\\programs\\python\\python312\\lib\\site-packages (from matplotlib!=3.6.1,>=3.4->seaborn) (10.4.0)\n",
      "Requirement already satisfied: pyparsing>=2.3.1 in c:\\users\\user\\appdata\\local\\programs\\python\\python312\\lib\\site-packages (from matplotlib!=3.6.1,>=3.4->seaborn) (3.1.2)\n",
      "Requirement already satisfied: python-dateutil>=2.7 in c:\\users\\user\\appdata\\local\\programs\\python\\python312\\lib\\site-packages (from matplotlib!=3.6.1,>=3.4->seaborn) (2.9.0.post0)\n",
      "Requirement already satisfied: pytz>=2020.1 in c:\\users\\user\\appdata\\local\\programs\\python\\python312\\lib\\site-packages (from pandas>=1.2->seaborn) (2024.1)\n",
      "Requirement already satisfied: tzdata>=2022.7 in c:\\users\\user\\appdata\\local\\programs\\python\\python312\\lib\\site-packages (from pandas>=1.2->seaborn) (2024.1)\n",
      "Requirement already satisfied: six>=1.5 in c:\\users\\user\\appdata\\local\\programs\\python\\python312\\lib\\site-packages (from python-dateutil>=2.7->matplotlib!=3.6.1,>=3.4->seaborn) (1.16.0)\n"
     ]
    }
   ],
   "source": [
    "!pip install seaborn"
   ]
  },
  {
   "cell_type": "code",
   "execution_count": 71,
   "metadata": {},
   "outputs": [
    {
     "name": "stdout",
     "output_type": "stream",
     "text": [
      "Requirement already satisfied: matplotlib in c:\\users\\user\\appdata\\local\\programs\\python\\python312\\lib\\site-packages (3.9.2)\n",
      "Requirement already satisfied: contourpy>=1.0.1 in c:\\users\\user\\appdata\\local\\programs\\python\\python312\\lib\\site-packages (from matplotlib) (1.2.1)\n",
      "Requirement already satisfied: cycler>=0.10 in c:\\users\\user\\appdata\\local\\programs\\python\\python312\\lib\\site-packages (from matplotlib) (0.12.1)\n",
      "Requirement already satisfied: fonttools>=4.22.0 in c:\\users\\user\\appdata\\local\\programs\\python\\python312\\lib\\site-packages (from matplotlib) (4.53.1)\n",
      "Requirement already satisfied: kiwisolver>=1.3.1 in c:\\users\\user\\appdata\\local\\programs\\python\\python312\\lib\\site-packages (from matplotlib) (1.4.5)\n",
      "Requirement already satisfied: numpy>=1.23 in c:\\users\\user\\appdata\\local\\programs\\python\\python312\\lib\\site-packages (from matplotlib) (2.1.0)\n",
      "Requirement already satisfied: packaging>=20.0 in c:\\users\\user\\appdata\\local\\programs\\python\\python312\\lib\\site-packages (from matplotlib) (24.1)\n",
      "Requirement already satisfied: pillow>=8 in c:\\users\\user\\appdata\\local\\programs\\python\\python312\\lib\\site-packages (from matplotlib) (10.4.0)\n",
      "Requirement already satisfied: pyparsing>=2.3.1 in c:\\users\\user\\appdata\\local\\programs\\python\\python312\\lib\\site-packages (from matplotlib) (3.1.2)\n",
      "Requirement already satisfied: python-dateutil>=2.7 in c:\\users\\user\\appdata\\local\\programs\\python\\python312\\lib\\site-packages (from matplotlib) (2.9.0.post0)\n",
      "Requirement already satisfied: six>=1.5 in c:\\users\\user\\appdata\\local\\programs\\python\\python312\\lib\\site-packages (from python-dateutil>=2.7->matplotlib) (1.16.0)\n"
     ]
    }
   ],
   "source": [
    "!pip install matplotlib"
   ]
  },
  {
   "cell_type": "markdown",
   "metadata": {
    "id": "7N2TvwSam0nO"
   },
   "source": [
    "IMPORT FILE CSV"
   ]
  },
  {
   "cell_type": "code",
   "execution_count": 72,
   "metadata": {
    "id": "iGCdTZa8mkbO"
   },
   "outputs": [],
   "source": [
    "df = pd.read_csv('ds_salaries.csv')"
   ]
  },
  {
   "cell_type": "code",
   "execution_count": 73,
   "metadata": {
    "id": "zV2EJvP8msOV",
    "scrolled": true
   },
   "outputs": [
    {
     "data": {
      "text/html": [
       "<div>\n",
       "<style scoped>\n",
       "    .dataframe tbody tr th:only-of-type {\n",
       "        vertical-align: middle;\n",
       "    }\n",
       "\n",
       "    .dataframe tbody tr th {\n",
       "        vertical-align: top;\n",
       "    }\n",
       "\n",
       "    .dataframe thead th {\n",
       "        text-align: right;\n",
       "    }\n",
       "</style>\n",
       "<table border=\"1\" class=\"dataframe\">\n",
       "  <thead>\n",
       "    <tr style=\"text-align: right;\">\n",
       "      <th></th>\n",
       "      <th>work_year</th>\n",
       "      <th>experience_level</th>\n",
       "      <th>employment_type</th>\n",
       "      <th>job_title</th>\n",
       "      <th>salary</th>\n",
       "      <th>salary_currency</th>\n",
       "      <th>salary_in_usd</th>\n",
       "      <th>employee_residence</th>\n",
       "      <th>remote_ratio</th>\n",
       "      <th>company_location</th>\n",
       "      <th>company_size</th>\n",
       "    </tr>\n",
       "  </thead>\n",
       "  <tbody>\n",
       "    <tr>\n",
       "      <th>0</th>\n",
       "      <td>2023</td>\n",
       "      <td>SE</td>\n",
       "      <td>FT</td>\n",
       "      <td>Principal Data Scientist</td>\n",
       "      <td>80000</td>\n",
       "      <td>EUR</td>\n",
       "      <td>85847</td>\n",
       "      <td>ES</td>\n",
       "      <td>100</td>\n",
       "      <td>ES</td>\n",
       "      <td>L</td>\n",
       "    </tr>\n",
       "    <tr>\n",
       "      <th>1</th>\n",
       "      <td>2023</td>\n",
       "      <td>MI</td>\n",
       "      <td>CT</td>\n",
       "      <td>ML Engineer</td>\n",
       "      <td>30000</td>\n",
       "      <td>USD</td>\n",
       "      <td>30000</td>\n",
       "      <td>US</td>\n",
       "      <td>100</td>\n",
       "      <td>US</td>\n",
       "      <td>S</td>\n",
       "    </tr>\n",
       "    <tr>\n",
       "      <th>2</th>\n",
       "      <td>2023</td>\n",
       "      <td>MI</td>\n",
       "      <td>CT</td>\n",
       "      <td>ML Engineer</td>\n",
       "      <td>25500</td>\n",
       "      <td>USD</td>\n",
       "      <td>25500</td>\n",
       "      <td>US</td>\n",
       "      <td>100</td>\n",
       "      <td>US</td>\n",
       "      <td>S</td>\n",
       "    </tr>\n",
       "    <tr>\n",
       "      <th>3</th>\n",
       "      <td>2023</td>\n",
       "      <td>SE</td>\n",
       "      <td>FT</td>\n",
       "      <td>Data Scientist</td>\n",
       "      <td>175000</td>\n",
       "      <td>USD</td>\n",
       "      <td>175000</td>\n",
       "      <td>CA</td>\n",
       "      <td>100</td>\n",
       "      <td>CA</td>\n",
       "      <td>M</td>\n",
       "    </tr>\n",
       "    <tr>\n",
       "      <th>4</th>\n",
       "      <td>2023</td>\n",
       "      <td>SE</td>\n",
       "      <td>FT</td>\n",
       "      <td>Data Scientist</td>\n",
       "      <td>120000</td>\n",
       "      <td>USD</td>\n",
       "      <td>120000</td>\n",
       "      <td>CA</td>\n",
       "      <td>100</td>\n",
       "      <td>CA</td>\n",
       "      <td>M</td>\n",
       "    </tr>\n",
       "  </tbody>\n",
       "</table>\n",
       "</div>"
      ],
      "text/plain": [
       "   work_year experience_level employment_type                 job_title  \\\n",
       "0       2023               SE              FT  Principal Data Scientist   \n",
       "1       2023               MI              CT               ML Engineer   \n",
       "2       2023               MI              CT               ML Engineer   \n",
       "3       2023               SE              FT            Data Scientist   \n",
       "4       2023               SE              FT            Data Scientist   \n",
       "\n",
       "   salary salary_currency  salary_in_usd employee_residence  remote_ratio  \\\n",
       "0   80000             EUR          85847                 ES           100   \n",
       "1   30000             USD          30000                 US           100   \n",
       "2   25500             USD          25500                 US           100   \n",
       "3  175000             USD         175000                 CA           100   \n",
       "4  120000             USD         120000                 CA           100   \n",
       "\n",
       "  company_location company_size  \n",
       "0               ES            L  \n",
       "1               US            S  \n",
       "2               US            S  \n",
       "3               CA            M  \n",
       "4               CA            M  "
      ]
     },
     "execution_count": 73,
     "metadata": {},
     "output_type": "execute_result"
    }
   ],
   "source": [
    "df.head()"
   ]
  },
  {
   "cell_type": "markdown",
   "metadata": {
    "id": "Or1VEu6Am3xk"
   },
   "source": [
    "# 1 Exploratory Data Analysis\n",
    "\n",
    "\n"
   ]
  },
  {
   "cell_type": "markdown",
   "metadata": {
    "id": "0ZVIcuJHnewc"
   },
   "source": [
    "## 1.1 Check Null Values"
   ]
  },
  {
   "cell_type": "code",
   "execution_count": 74,
   "metadata": {
    "id": "e8i6F2Yem3Tm"
   },
   "outputs": [
    {
     "data": {
      "text/plain": [
       "work_year             0\n",
       "experience_level      0\n",
       "employment_type       0\n",
       "job_title             0\n",
       "salary                0\n",
       "salary_currency       0\n",
       "salary_in_usd         0\n",
       "employee_residence    0\n",
       "remote_ratio          0\n",
       "company_location      0\n",
       "company_size          0\n",
       "dtype: int64"
      ]
     },
     "execution_count": 74,
     "metadata": {},
     "output_type": "execute_result"
    }
   ],
   "source": [
    "df.isna().sum()"
   ]
  },
  {
   "cell_type": "markdown",
   "metadata": {
    "id": "CZuYC3MAmwAN"
   },
   "source": [
    "## 1.2 Check Duplicate Data"
   ]
  },
  {
   "cell_type": "code",
   "execution_count": 75,
   "metadata": {
    "id": "VDiTdIMNoKSS"
   },
   "outputs": [
    {
     "data": {
      "text/plain": [
       "(3755, 11)"
      ]
     },
     "execution_count": 75,
     "metadata": {},
     "output_type": "execute_result"
    }
   ],
   "source": [
    "df.shape"
   ]
  },
  {
   "cell_type": "code",
   "execution_count": 76,
   "metadata": {
    "id": "eJNeBOwZoESi",
    "scrolled": true
   },
   "outputs": [
    {
     "data": {
      "text/html": [
       "<div>\n",
       "<style scoped>\n",
       "    .dataframe tbody tr th:only-of-type {\n",
       "        vertical-align: middle;\n",
       "    }\n",
       "\n",
       "    .dataframe tbody tr th {\n",
       "        vertical-align: top;\n",
       "    }\n",
       "\n",
       "    .dataframe thead th {\n",
       "        text-align: right;\n",
       "    }\n",
       "</style>\n",
       "<table border=\"1\" class=\"dataframe\">\n",
       "  <thead>\n",
       "    <tr style=\"text-align: right;\">\n",
       "      <th></th>\n",
       "      <th>work_year</th>\n",
       "      <th>experience_level</th>\n",
       "      <th>employment_type</th>\n",
       "      <th>job_title</th>\n",
       "      <th>salary</th>\n",
       "      <th>salary_currency</th>\n",
       "      <th>salary_in_usd</th>\n",
       "      <th>employee_residence</th>\n",
       "      <th>remote_ratio</th>\n",
       "      <th>company_location</th>\n",
       "      <th>company_size</th>\n",
       "    </tr>\n",
       "  </thead>\n",
       "  <tbody>\n",
       "    <tr>\n",
       "      <th>115</th>\n",
       "      <td>2023</td>\n",
       "      <td>SE</td>\n",
       "      <td>FT</td>\n",
       "      <td>Data Scientist</td>\n",
       "      <td>150000</td>\n",
       "      <td>USD</td>\n",
       "      <td>150000</td>\n",
       "      <td>US</td>\n",
       "      <td>0</td>\n",
       "      <td>US</td>\n",
       "      <td>M</td>\n",
       "    </tr>\n",
       "    <tr>\n",
       "      <th>123</th>\n",
       "      <td>2023</td>\n",
       "      <td>SE</td>\n",
       "      <td>FT</td>\n",
       "      <td>Analytics Engineer</td>\n",
       "      <td>289800</td>\n",
       "      <td>USD</td>\n",
       "      <td>289800</td>\n",
       "      <td>US</td>\n",
       "      <td>0</td>\n",
       "      <td>US</td>\n",
       "      <td>M</td>\n",
       "    </tr>\n",
       "    <tr>\n",
       "      <th>153</th>\n",
       "      <td>2023</td>\n",
       "      <td>MI</td>\n",
       "      <td>FT</td>\n",
       "      <td>Data Engineer</td>\n",
       "      <td>100000</td>\n",
       "      <td>USD</td>\n",
       "      <td>100000</td>\n",
       "      <td>US</td>\n",
       "      <td>100</td>\n",
       "      <td>US</td>\n",
       "      <td>M</td>\n",
       "    </tr>\n",
       "    <tr>\n",
       "      <th>154</th>\n",
       "      <td>2023</td>\n",
       "      <td>MI</td>\n",
       "      <td>FT</td>\n",
       "      <td>Data Engineer</td>\n",
       "      <td>70000</td>\n",
       "      <td>USD</td>\n",
       "      <td>70000</td>\n",
       "      <td>US</td>\n",
       "      <td>100</td>\n",
       "      <td>US</td>\n",
       "      <td>M</td>\n",
       "    </tr>\n",
       "    <tr>\n",
       "      <th>160</th>\n",
       "      <td>2023</td>\n",
       "      <td>SE</td>\n",
       "      <td>FT</td>\n",
       "      <td>Data Engineer</td>\n",
       "      <td>115000</td>\n",
       "      <td>USD</td>\n",
       "      <td>115000</td>\n",
       "      <td>US</td>\n",
       "      <td>0</td>\n",
       "      <td>US</td>\n",
       "      <td>M</td>\n",
       "    </tr>\n",
       "    <tr>\n",
       "      <th>...</th>\n",
       "      <td>...</td>\n",
       "      <td>...</td>\n",
       "      <td>...</td>\n",
       "      <td>...</td>\n",
       "      <td>...</td>\n",
       "      <td>...</td>\n",
       "      <td>...</td>\n",
       "      <td>...</td>\n",
       "      <td>...</td>\n",
       "      <td>...</td>\n",
       "      <td>...</td>\n",
       "    </tr>\n",
       "    <tr>\n",
       "      <th>3439</th>\n",
       "      <td>2022</td>\n",
       "      <td>MI</td>\n",
       "      <td>FT</td>\n",
       "      <td>Data Scientist</td>\n",
       "      <td>78000</td>\n",
       "      <td>USD</td>\n",
       "      <td>78000</td>\n",
       "      <td>US</td>\n",
       "      <td>100</td>\n",
       "      <td>US</td>\n",
       "      <td>M</td>\n",
       "    </tr>\n",
       "    <tr>\n",
       "      <th>3440</th>\n",
       "      <td>2022</td>\n",
       "      <td>SE</td>\n",
       "      <td>FT</td>\n",
       "      <td>Data Engineer</td>\n",
       "      <td>135000</td>\n",
       "      <td>USD</td>\n",
       "      <td>135000</td>\n",
       "      <td>US</td>\n",
       "      <td>100</td>\n",
       "      <td>US</td>\n",
       "      <td>M</td>\n",
       "    </tr>\n",
       "    <tr>\n",
       "      <th>3441</th>\n",
       "      <td>2022</td>\n",
       "      <td>SE</td>\n",
       "      <td>FT</td>\n",
       "      <td>Data Engineer</td>\n",
       "      <td>115000</td>\n",
       "      <td>USD</td>\n",
       "      <td>115000</td>\n",
       "      <td>US</td>\n",
       "      <td>100</td>\n",
       "      <td>US</td>\n",
       "      <td>M</td>\n",
       "    </tr>\n",
       "    <tr>\n",
       "      <th>3586</th>\n",
       "      <td>2021</td>\n",
       "      <td>MI</td>\n",
       "      <td>FT</td>\n",
       "      <td>Data Engineer</td>\n",
       "      <td>200000</td>\n",
       "      <td>USD</td>\n",
       "      <td>200000</td>\n",
       "      <td>US</td>\n",
       "      <td>100</td>\n",
       "      <td>US</td>\n",
       "      <td>L</td>\n",
       "    </tr>\n",
       "    <tr>\n",
       "      <th>3709</th>\n",
       "      <td>2021</td>\n",
       "      <td>MI</td>\n",
       "      <td>FT</td>\n",
       "      <td>Data Scientist</td>\n",
       "      <td>76760</td>\n",
       "      <td>EUR</td>\n",
       "      <td>90734</td>\n",
       "      <td>DE</td>\n",
       "      <td>50</td>\n",
       "      <td>DE</td>\n",
       "      <td>L</td>\n",
       "    </tr>\n",
       "  </tbody>\n",
       "</table>\n",
       "<p>1171 rows × 11 columns</p>\n",
       "</div>"
      ],
      "text/plain": [
       "      work_year experience_level employment_type           job_title  salary  \\\n",
       "115        2023               SE              FT      Data Scientist  150000   \n",
       "123        2023               SE              FT  Analytics Engineer  289800   \n",
       "153        2023               MI              FT       Data Engineer  100000   \n",
       "154        2023               MI              FT       Data Engineer   70000   \n",
       "160        2023               SE              FT       Data Engineer  115000   \n",
       "...         ...              ...             ...                 ...     ...   \n",
       "3439       2022               MI              FT      Data Scientist   78000   \n",
       "3440       2022               SE              FT       Data Engineer  135000   \n",
       "3441       2022               SE              FT       Data Engineer  115000   \n",
       "3586       2021               MI              FT       Data Engineer  200000   \n",
       "3709       2021               MI              FT      Data Scientist   76760   \n",
       "\n",
       "     salary_currency  salary_in_usd employee_residence  remote_ratio  \\\n",
       "115              USD         150000                 US             0   \n",
       "123              USD         289800                 US             0   \n",
       "153              USD         100000                 US           100   \n",
       "154              USD          70000                 US           100   \n",
       "160              USD         115000                 US             0   \n",
       "...              ...            ...                ...           ...   \n",
       "3439             USD          78000                 US           100   \n",
       "3440             USD         135000                 US           100   \n",
       "3441             USD         115000                 US           100   \n",
       "3586             USD         200000                 US           100   \n",
       "3709             EUR          90734                 DE            50   \n",
       "\n",
       "     company_location company_size  \n",
       "115                US            M  \n",
       "123                US            M  \n",
       "153                US            M  \n",
       "154                US            M  \n",
       "160                US            M  \n",
       "...               ...          ...  \n",
       "3439               US            M  \n",
       "3440               US            M  \n",
       "3441               US            M  \n",
       "3586               US            L  \n",
       "3709               DE            L  \n",
       "\n",
       "[1171 rows x 11 columns]"
      ]
     },
     "execution_count": 76,
     "metadata": {},
     "output_type": "execute_result"
    }
   ],
   "source": [
    "df[df.duplicated()]\n",
    "\n",
    "#data tanpa identifier (primary key kemungkinan besar ada duplikatnya)"
   ]
  },
  {
   "cell_type": "code",
   "execution_count": 77,
   "metadata": {
    "id": "Eqr7y5_0oj7r"
   },
   "outputs": [
    {
     "data": {
      "text/plain": [
       "(1171, 11)"
      ]
     },
     "execution_count": 77,
     "metadata": {},
     "output_type": "execute_result"
    }
   ],
   "source": [
    "df[df.duplicated()].shape"
   ]
  },
  {
   "cell_type": "markdown",
   "metadata": {
    "id": "0-7pTM_1onJf"
   },
   "source": [
    "### Copy Data"
   ]
  },
  {
   "cell_type": "code",
   "execution_count": 78,
   "metadata": {
    "id": "noh25HMJomY0"
   },
   "outputs": [],
   "source": [
    "# copy data digunakan agar data aslinya utuh\n",
    "# karena nantinya data data duplikat akan di drop\n",
    "\n",
    "df_2 = df.copy()"
   ]
  },
  {
   "cell_type": "code",
   "execution_count": 79,
   "metadata": {
    "id": "NuVtyxE_owwI"
   },
   "outputs": [
    {
     "data": {
      "text/plain": [
       "(3755, 11)"
      ]
     },
     "execution_count": 79,
     "metadata": {},
     "output_type": "execute_result"
    }
   ],
   "source": [
    "df_2.shape"
   ]
  },
  {
   "cell_type": "code",
   "execution_count": 80,
   "metadata": {},
   "outputs": [],
   "source": [
    "pd.options.mode.chained_assignment = None"
   ]
  },
  {
   "cell_type": "markdown",
   "metadata": {
    "id": "pMwQ_sP0pFsR"
   },
   "source": [
    "### Delete Duplicate Data"
   ]
  },
  {
   "cell_type": "code",
   "execution_count": 81,
   "metadata": {
    "id": "9ZS1wBYFpHm4"
   },
   "outputs": [],
   "source": [
    "df_2 = df_2.drop_duplicates()"
   ]
  },
  {
   "cell_type": "code",
   "execution_count": 82,
   "metadata": {
    "id": "mN5nfmJApWXR"
   },
   "outputs": [
    {
     "data": {
      "text/plain": [
       "(2584, 11)"
      ]
     },
     "execution_count": 82,
     "metadata": {},
     "output_type": "execute_result"
    }
   ],
   "source": [
    "df_2.shape"
   ]
  },
  {
   "cell_type": "markdown",
   "metadata": {
    "id": "Dwo5gX55pZsr"
   },
   "source": [
    "## 1.3 Check Unique Values in Each Column"
   ]
  },
  {
   "cell_type": "markdown",
   "metadata": {
    "id": "JSnKpjW7pnjd"
   },
   "source": [
    "### Check Data Type"
   ]
  },
  {
   "cell_type": "code",
   "execution_count": 83,
   "metadata": {
    "id": "4ckmyT4Qpj56"
   },
   "outputs": [
    {
     "data": {
      "text/plain": [
       "work_year              int64\n",
       "experience_level      object\n",
       "employment_type       object\n",
       "job_title             object\n",
       "salary                 int64\n",
       "salary_currency       object\n",
       "salary_in_usd          int64\n",
       "employee_residence    object\n",
       "remote_ratio           int64\n",
       "company_location      object\n",
       "company_size          object\n",
       "dtype: object"
      ]
     },
     "execution_count": 83,
     "metadata": {},
     "output_type": "execute_result"
    }
   ],
   "source": [
    "df_2.dtypes"
   ]
  },
  {
   "cell_type": "markdown",
   "metadata": {
    "id": "2wBMcGYYps1x"
   },
   "source": [
    "### Check Data stats"
   ]
  },
  {
   "cell_type": "code",
   "execution_count": 84,
   "metadata": {
    "id": "momu1Mo3pvSz"
   },
   "outputs": [
    {
     "data": {
      "text/html": [
       "<div>\n",
       "<style scoped>\n",
       "    .dataframe tbody tr th:only-of-type {\n",
       "        vertical-align: middle;\n",
       "    }\n",
       "\n",
       "    .dataframe tbody tr th {\n",
       "        vertical-align: top;\n",
       "    }\n",
       "\n",
       "    .dataframe thead th {\n",
       "        text-align: right;\n",
       "    }\n",
       "</style>\n",
       "<table border=\"1\" class=\"dataframe\">\n",
       "  <thead>\n",
       "    <tr style=\"text-align: right;\">\n",
       "      <th></th>\n",
       "      <th>work_year</th>\n",
       "      <th>salary</th>\n",
       "      <th>salary_in_usd</th>\n",
       "      <th>remote_ratio</th>\n",
       "    </tr>\n",
       "  </thead>\n",
       "  <tbody>\n",
       "    <tr>\n",
       "      <th>count</th>\n",
       "      <td>2584.000000</td>\n",
       "      <td>2.584000e+03</td>\n",
       "      <td>2584.000000</td>\n",
       "      <td>2584.000000</td>\n",
       "    </tr>\n",
       "    <tr>\n",
       "      <th>mean</th>\n",
       "      <td>2022.301084</td>\n",
       "      <td>2.103653e+05</td>\n",
       "      <td>133409.280186</td>\n",
       "      <td>50.483746</td>\n",
       "    </tr>\n",
       "    <tr>\n",
       "      <th>std</th>\n",
       "      <td>0.749179</td>\n",
       "      <td>8.080375e+05</td>\n",
       "      <td>67136.837329</td>\n",
       "      <td>48.163707</td>\n",
       "    </tr>\n",
       "    <tr>\n",
       "      <th>min</th>\n",
       "      <td>2020.000000</td>\n",
       "      <td>6.000000e+03</td>\n",
       "      <td>5132.000000</td>\n",
       "      <td>0.000000</td>\n",
       "    </tr>\n",
       "    <tr>\n",
       "      <th>25%</th>\n",
       "      <td>2022.000000</td>\n",
       "      <td>9.000000e+04</td>\n",
       "      <td>84975.000000</td>\n",
       "      <td>0.000000</td>\n",
       "    </tr>\n",
       "    <tr>\n",
       "      <th>50%</th>\n",
       "      <td>2022.000000</td>\n",
       "      <td>1.346300e+05</td>\n",
       "      <td>130000.000000</td>\n",
       "      <td>50.000000</td>\n",
       "    </tr>\n",
       "    <tr>\n",
       "      <th>75%</th>\n",
       "      <td>2023.000000</td>\n",
       "      <td>1.825625e+05</td>\n",
       "      <td>175000.000000</td>\n",
       "      <td>100.000000</td>\n",
       "    </tr>\n",
       "    <tr>\n",
       "      <th>max</th>\n",
       "      <td>2023.000000</td>\n",
       "      <td>3.040000e+07</td>\n",
       "      <td>450000.000000</td>\n",
       "      <td>100.000000</td>\n",
       "    </tr>\n",
       "  </tbody>\n",
       "</table>\n",
       "</div>"
      ],
      "text/plain": [
       "         work_year        salary  salary_in_usd  remote_ratio\n",
       "count  2584.000000  2.584000e+03    2584.000000   2584.000000\n",
       "mean   2022.301084  2.103653e+05  133409.280186     50.483746\n",
       "std       0.749179  8.080375e+05   67136.837329     48.163707\n",
       "min    2020.000000  6.000000e+03    5132.000000      0.000000\n",
       "25%    2022.000000  9.000000e+04   84975.000000      0.000000\n",
       "50%    2022.000000  1.346300e+05  130000.000000     50.000000\n",
       "75%    2023.000000  1.825625e+05  175000.000000    100.000000\n",
       "max    2023.000000  3.040000e+07  450000.000000    100.000000"
      ]
     },
     "execution_count": 84,
     "metadata": {},
     "output_type": "execute_result"
    }
   ],
   "source": [
    "df_2.describe()"
   ]
  },
  {
   "cell_type": "markdown",
   "metadata": {
    "id": "Q2ML4N9Qp2OC"
   },
   "source": [
    "### Check Columns"
   ]
  },
  {
   "cell_type": "code",
   "execution_count": 122,
   "metadata": {
    "id": "a65Zc4Kgp4Ro"
   },
   "outputs": [
    {
     "data": {
      "text/plain": [
       "Index(['work_year', 'experience_level', 'employment_type', 'job_title',\n",
       "       'salary', 'salary_currency', 'salary_in_usd', 'employee_residence',\n",
       "       'remote_ratio', 'company_location', 'company_size', 'job_category',\n",
       "       'adjusted_salary'],\n",
       "      dtype='object')"
      ]
     },
     "execution_count": 122,
     "metadata": {},
     "output_type": "execute_result"
    }
   ],
   "source": [
    "df_2.columns"
   ]
  },
  {
   "cell_type": "markdown",
   "metadata": {
    "id": "UjOXFV24qC9s"
   },
   "source": [
    "### Unique Valeus Check"
   ]
  },
  {
   "cell_type": "code",
   "execution_count": 121,
   "metadata": {
    "id": "0RgLtrTnqFnx",
    "scrolled": true
   },
   "outputs": [
    {
     "name": "stdout",
     "output_type": "stream",
     "text": [
      "experience_level : 4 --> ['Senior' 'Mid / Intermediete Level' 'Entry Level' 'Executive']\n",
      "\n",
      "employment_type : 4 --> ['Full Time' 'Contract' 'Freelance' 'Part Time']\n",
      "\n",
      "job_title : 93 --> ['Principal Data Scientist' 'ML Engineer' 'Data Scientist'\n",
      " 'Applied Scientist' 'Data Analyst' 'Data Modeler' 'Research Engineer'\n",
      " 'Analytics Engineer' 'Business Intelligence Engineer'\n",
      " 'Machine Learning Engineer' 'Data Strategist' 'Data Engineer'\n",
      " 'Computer Vision Engineer' 'Data Quality Analyst'\n",
      " 'Compliance Data Analyst' 'Data Architect'\n",
      " 'Applied Machine Learning Engineer' 'AI Developer' 'Research Scientist'\n",
      " 'Data Analytics Manager' 'Business Data Analyst' 'Applied Data Scientist'\n",
      " 'Staff Data Analyst' 'ETL Engineer' 'Data DevOps Engineer' 'Head of Data'\n",
      " 'Data Science Manager' 'Data Manager' 'Machine Learning Researcher'\n",
      " 'Big Data Engineer' 'Data Specialist' 'Lead Data Analyst'\n",
      " 'BI Data Engineer' 'Director of Data Science'\n",
      " 'Machine Learning Scientist' 'MLOps Engineer' 'AI Scientist'\n",
      " 'Autonomous Vehicle Technician' 'Applied Machine Learning Scientist'\n",
      " 'Lead Data Scientist' 'Cloud Database Engineer' 'Financial Data Analyst'\n",
      " 'Data Infrastructure Engineer' 'Software Data Engineer' 'AI Programmer'\n",
      " 'Data Operations Engineer' 'BI Developer' 'Data Science Lead'\n",
      " 'Deep Learning Researcher' 'BI Analyst' 'Data Science Consultant'\n",
      " 'Data Analytics Specialist' 'Machine Learning Infrastructure Engineer'\n",
      " 'BI Data Analyst' 'Head of Data Science' 'Insight Analyst'\n",
      " 'Deep Learning Engineer' 'Machine Learning Software Engineer'\n",
      " 'Big Data Architect' 'Product Data Analyst'\n",
      " 'Computer Vision Software Engineer' 'Azure Data Engineer'\n",
      " 'Marketing Data Engineer' 'Data Analytics Lead' 'Data Lead'\n",
      " 'Data Science Engineer' 'Machine Learning Research Engineer'\n",
      " 'NLP Engineer' 'Manager Data Management' 'Machine Learning Developer'\n",
      " '3D Computer Vision Researcher' 'Principal Machine Learning Engineer'\n",
      " 'Data Analytics Engineer' 'Data Analytics Consultant'\n",
      " 'Data Management Specialist' 'Data Science Tech Lead'\n",
      " 'Data Scientist Lead' 'Cloud Data Engineer' 'Data Operations Analyst'\n",
      " 'Marketing Data Analyst' 'Power BI Developer' 'Product Data Scientist'\n",
      " 'Principal Data Architect' 'Machine Learning Manager'\n",
      " 'Lead Machine Learning Engineer' 'ETL Developer' 'Cloud Data Architect'\n",
      " 'Lead Data Engineer' 'Head of Machine Learning' 'Principal Data Analyst'\n",
      " 'Principal Data Engineer' 'Staff Data Scientist' 'Finance Data Analyst']\n",
      "\n",
      "salary_currency : 20 --> ['EUR' 'USD' 'INR' 'HKD' 'CHF' 'GBP' 'AUD' 'SGD' 'CAD' 'ILS' 'BRL' 'THB'\n",
      " 'PLN' 'HUF' 'CZK' 'DKK' 'JPY' 'MXN' 'TRY' 'CLP']\n",
      "\n",
      "employee_residence : 78 --> ['ES' 'US' 'CA' 'DE' 'GB' 'NG' 'IN' 'HK' 'PT' 'NL' 'CH' 'CF' 'FR' 'AU'\n",
      " 'FI' 'UA' 'IE' 'IL' 'GH' 'AT' 'CO' 'SG' 'SE' 'SI' 'MX' 'UZ' 'BR' 'TH'\n",
      " 'HR' 'PL' 'KW' 'VN' 'CY' 'AR' 'AM' 'BA' 'KE' 'GR' 'MK' 'LV' 'RO' 'PK'\n",
      " 'IT' 'MA' 'LT' 'BE' 'AS' 'IR' 'HU' 'SK' 'CN' 'CZ' 'CR' 'TR' 'CL' 'PR'\n",
      " 'DK' 'BO' 'PH' 'DO' 'EG' 'ID' 'AE' 'MY' 'JP' 'EE' 'HN' 'TN' 'RU' 'DZ'\n",
      " 'IQ' 'BG' 'JE' 'RS' 'NZ' 'MD' 'LU' 'MT']\n",
      "\n",
      "remote_ratio : 3 --> ['Remote' 'On-site' 'Hybrid']\n",
      "\n",
      "company_location : 72 --> ['ES' 'US' 'CA' 'DE' 'GB' 'NG' 'IN' 'HK' 'NL' 'CH' 'CF' 'FR' 'FI' 'UA'\n",
      " 'IE' 'IL' 'GH' 'CO' 'SG' 'AU' 'SE' 'SI' 'MX' 'BR' 'PT' 'RU' 'TH' 'HR'\n",
      " 'VN' 'EE' 'AM' 'BA' 'KE' 'GR' 'MK' 'LV' 'RO' 'PK' 'IT' 'MA' 'PL' 'AL'\n",
      " 'AR' 'LT' 'AS' 'CR' 'IR' 'BS' 'HU' 'AT' 'SK' 'CZ' 'TR' 'PR' 'DK' 'BO'\n",
      " 'PH' 'BE' 'ID' 'EG' 'AE' 'LU' 'MY' 'HN' 'JP' 'DZ' 'IQ' 'CN' 'NZ' 'CL'\n",
      " 'MD' 'MT']\n",
      "\n",
      "company_size : 3 --> ['L' 'S' 'M']\n",
      "\n",
      "job_category : 6 --> ['Others' 'Machine Learning' 'Data Scientist' 'Data Engineering'\n",
      " 'Data Architecture' 'Management']\n",
      "\n"
     ]
    }
   ],
   "source": [
    "for column in df_2.columns:\n",
    "    if df_2[column].dtypes == object:\n",
    "        num_distinct = df_2[column].nunique()\n",
    "        distinct_val = df_2[column].unique()\n",
    "        print(f\"{column} : {num_distinct} --> {distinct_val}\\n\")"
   ]
  },
  {
   "cell_type": "markdown",
   "metadata": {
    "id": "yLmtaL1arOIB"
   },
   "source": [
    "## 1.4 Rename Value for Better Understanding"
   ]
  },
  {
   "cell_type": "code",
   "execution_count": 87,
   "metadata": {
    "id": "PDSJfE4ArSdW"
   },
   "outputs": [],
   "source": [
    "df_2['experience_level'] = df_2['experience_level'].map({\n",
    "    'SE' : 'Senior',\n",
    "    'EN' : 'Entry Level',\n",
    "    'EX' : 'Executive',\n",
    "    'MI' : 'Mid / Intermediete Level'\n",
    "})\n",
    "df_2['employment_type'] = df_2['employment_type'].map({\n",
    "    'FL' : 'Freelance',\n",
    "    'CT' : 'Contract',\n",
    "    'FT' : 'Full Time',\n",
    "    'PT' : 'Part Time'\n",
    "})\n",
    "df_2['remote_ratio'] = df_2['remote_ratio'].map({\n",
    "    0 : 'On-site',\n",
    "    50 : 'Hybrid',\n",
    "    100 : 'Remote'\n",
    "})\n",
    "\n"
   ]
  },
  {
   "cell_type": "code",
   "execution_count": 120,
   "metadata": {},
   "outputs": [
    {
     "data": {
      "text/html": [
       "<div>\n",
       "<style scoped>\n",
       "    .dataframe tbody tr th:only-of-type {\n",
       "        vertical-align: middle;\n",
       "    }\n",
       "\n",
       "    .dataframe tbody tr th {\n",
       "        vertical-align: top;\n",
       "    }\n",
       "\n",
       "    .dataframe thead th {\n",
       "        text-align: right;\n",
       "    }\n",
       "</style>\n",
       "<table border=\"1\" class=\"dataframe\">\n",
       "  <thead>\n",
       "    <tr style=\"text-align: right;\">\n",
       "      <th></th>\n",
       "      <th>work_year</th>\n",
       "      <th>experience_level</th>\n",
       "      <th>employment_type</th>\n",
       "      <th>job_title</th>\n",
       "      <th>salary</th>\n",
       "      <th>salary_currency</th>\n",
       "      <th>salary_in_usd</th>\n",
       "      <th>employee_residence</th>\n",
       "      <th>remote_ratio</th>\n",
       "      <th>company_location</th>\n",
       "      <th>company_size</th>\n",
       "      <th>job_category</th>\n",
       "      <th>adjusted_salary</th>\n",
       "    </tr>\n",
       "  </thead>\n",
       "  <tbody>\n",
       "    <tr>\n",
       "      <th>0</th>\n",
       "      <td>2023</td>\n",
       "      <td>Senior</td>\n",
       "      <td>Full Time</td>\n",
       "      <td>Principal Data Scientist</td>\n",
       "      <td>80000</td>\n",
       "      <td>EUR</td>\n",
       "      <td>85847</td>\n",
       "      <td>ES</td>\n",
       "      <td>Remote</td>\n",
       "      <td>ES</td>\n",
       "      <td>L</td>\n",
       "      <td>Others</td>\n",
       "      <td>85847.0</td>\n",
       "    </tr>\n",
       "    <tr>\n",
       "      <th>1</th>\n",
       "      <td>2023</td>\n",
       "      <td>Mid / Intermediete Level</td>\n",
       "      <td>Contract</td>\n",
       "      <td>ML Engineer</td>\n",
       "      <td>30000</td>\n",
       "      <td>USD</td>\n",
       "      <td>30000</td>\n",
       "      <td>US</td>\n",
       "      <td>Remote</td>\n",
       "      <td>US</td>\n",
       "      <td>S</td>\n",
       "      <td>Machine Learning</td>\n",
       "      <td>30000.0</td>\n",
       "    </tr>\n",
       "    <tr>\n",
       "      <th>2</th>\n",
       "      <td>2023</td>\n",
       "      <td>Mid / Intermediete Level</td>\n",
       "      <td>Contract</td>\n",
       "      <td>ML Engineer</td>\n",
       "      <td>25500</td>\n",
       "      <td>USD</td>\n",
       "      <td>25500</td>\n",
       "      <td>US</td>\n",
       "      <td>Remote</td>\n",
       "      <td>US</td>\n",
       "      <td>S</td>\n",
       "      <td>Machine Learning</td>\n",
       "      <td>25500.0</td>\n",
       "    </tr>\n",
       "    <tr>\n",
       "      <th>3</th>\n",
       "      <td>2023</td>\n",
       "      <td>Senior</td>\n",
       "      <td>Full Time</td>\n",
       "      <td>Data Scientist</td>\n",
       "      <td>175000</td>\n",
       "      <td>USD</td>\n",
       "      <td>175000</td>\n",
       "      <td>CA</td>\n",
       "      <td>Remote</td>\n",
       "      <td>CA</td>\n",
       "      <td>M</td>\n",
       "      <td>Data Scientist</td>\n",
       "      <td>175000.0</td>\n",
       "    </tr>\n",
       "    <tr>\n",
       "      <th>4</th>\n",
       "      <td>2023</td>\n",
       "      <td>Senior</td>\n",
       "      <td>Full Time</td>\n",
       "      <td>Data Scientist</td>\n",
       "      <td>120000</td>\n",
       "      <td>USD</td>\n",
       "      <td>120000</td>\n",
       "      <td>CA</td>\n",
       "      <td>Remote</td>\n",
       "      <td>CA</td>\n",
       "      <td>M</td>\n",
       "      <td>Data Scientist</td>\n",
       "      <td>120000.0</td>\n",
       "    </tr>\n",
       "  </tbody>\n",
       "</table>\n",
       "</div>"
      ],
      "text/plain": [
       "   work_year          experience_level employment_type  \\\n",
       "0       2023                    Senior       Full Time   \n",
       "1       2023  Mid / Intermediete Level        Contract   \n",
       "2       2023  Mid / Intermediete Level        Contract   \n",
       "3       2023                    Senior       Full Time   \n",
       "4       2023                    Senior       Full Time   \n",
       "\n",
       "                  job_title  salary salary_currency  salary_in_usd  \\\n",
       "0  Principal Data Scientist   80000             EUR          85847   \n",
       "1               ML Engineer   30000             USD          30000   \n",
       "2               ML Engineer   25500             USD          25500   \n",
       "3            Data Scientist  175000             USD         175000   \n",
       "4            Data Scientist  120000             USD         120000   \n",
       "\n",
       "  employee_residence remote_ratio company_location company_size  \\\n",
       "0                 ES       Remote               ES            L   \n",
       "1                 US       Remote               US            S   \n",
       "2                 US       Remote               US            S   \n",
       "3                 CA       Remote               CA            M   \n",
       "4                 CA       Remote               CA            M   \n",
       "\n",
       "       job_category  adjusted_salary  \n",
       "0            Others          85847.0  \n",
       "1  Machine Learning          30000.0  \n",
       "2  Machine Learning          25500.0  \n",
       "3    Data Scientist         175000.0  \n",
       "4    Data Scientist         120000.0  "
      ]
     },
     "execution_count": 120,
     "metadata": {},
     "output_type": "execute_result"
    }
   ],
   "source": [
    "df_2.head()"
   ]
  },
  {
   "cell_type": "code",
   "execution_count": 119,
   "metadata": {},
   "outputs": [
    {
     "data": {
      "text/plain": [
       "work_year             0\n",
       "experience_level      0\n",
       "employment_type       0\n",
       "job_title             0\n",
       "salary                0\n",
       "salary_currency       0\n",
       "salary_in_usd         0\n",
       "employee_residence    0\n",
       "remote_ratio          0\n",
       "company_location      0\n",
       "company_size          0\n",
       "job_category          0\n",
       "adjusted_salary       0\n",
       "dtype: int64"
      ]
     },
     "execution_count": 119,
     "metadata": {},
     "output_type": "execute_result"
    }
   ],
   "source": [
    "#ditemukan, remote ratio yang Nan\n",
    "\n",
    "df_2.isna().sum()"
   ]
  },
  {
   "cell_type": "code",
   "execution_count": 118,
   "metadata": {
    "scrolled": true
   },
   "outputs": [
    {
     "data": {
      "text/plain": [
       "work_year             0\n",
       "experience_level      0\n",
       "employment_type       0\n",
       "job_title             0\n",
       "salary                0\n",
       "salary_currency       0\n",
       "salary_in_usd         0\n",
       "employee_residence    0\n",
       "remote_ratio          0\n",
       "company_location      0\n",
       "company_size          0\n",
       "job_category          0\n",
       "adjusted_salary       0\n",
       "dtype: int64"
      ]
     },
     "execution_count": 118,
     "metadata": {},
     "output_type": "execute_result"
    }
   ],
   "source": [
    "df_2['remote_ratio'] = df_2['remote_ratio'].fillna(df_2['remote_ratio'].mode()[0])\n",
    "df_2.isna().sum()\n",
    "\n",
    "# Nan hilang diisi dengan modus"
   ]
  },
  {
   "cell_type": "markdown",
   "metadata": {
    "id": "lxEROrgBtMAz"
   },
   "source": [
    "## 1.5 Group the Job title"
   ]
  },
  {
   "cell_type": "markdown",
   "metadata": {
    "id": "l9Xo7fDAsMvY"
   },
   "source": [
    "### Check Job Title"
   ]
  },
  {
   "cell_type": "code",
   "execution_count": 117,
   "metadata": {
    "id": "JyE5hcWcsEen",
    "scrolled": true
   },
   "outputs": [
    {
     "name": "stdout",
     "output_type": "stream",
     "text": [
      "93\n",
      "['Principal Data Scientist' 'ML Engineer' 'Data Scientist'\n",
      " 'Applied Scientist' 'Data Analyst' 'Data Modeler' 'Research Engineer'\n",
      " 'Analytics Engineer' 'Business Intelligence Engineer'\n",
      " 'Machine Learning Engineer' 'Data Strategist' 'Data Engineer'\n",
      " 'Computer Vision Engineer' 'Data Quality Analyst'\n",
      " 'Compliance Data Analyst' 'Data Architect'\n",
      " 'Applied Machine Learning Engineer' 'AI Developer' 'Research Scientist'\n",
      " 'Data Analytics Manager' 'Business Data Analyst' 'Applied Data Scientist'\n",
      " 'Staff Data Analyst' 'ETL Engineer' 'Data DevOps Engineer' 'Head of Data'\n",
      " 'Data Science Manager' 'Data Manager' 'Machine Learning Researcher'\n",
      " 'Big Data Engineer' 'Data Specialist' 'Lead Data Analyst'\n",
      " 'BI Data Engineer' 'Director of Data Science'\n",
      " 'Machine Learning Scientist' 'MLOps Engineer' 'AI Scientist'\n",
      " 'Autonomous Vehicle Technician' 'Applied Machine Learning Scientist'\n",
      " 'Lead Data Scientist' 'Cloud Database Engineer' 'Financial Data Analyst'\n",
      " 'Data Infrastructure Engineer' 'Software Data Engineer' 'AI Programmer'\n",
      " 'Data Operations Engineer' 'BI Developer' 'Data Science Lead'\n",
      " 'Deep Learning Researcher' 'BI Analyst' 'Data Science Consultant'\n",
      " 'Data Analytics Specialist' 'Machine Learning Infrastructure Engineer'\n",
      " 'BI Data Analyst' 'Head of Data Science' 'Insight Analyst'\n",
      " 'Deep Learning Engineer' 'Machine Learning Software Engineer'\n",
      " 'Big Data Architect' 'Product Data Analyst'\n",
      " 'Computer Vision Software Engineer' 'Azure Data Engineer'\n",
      " 'Marketing Data Engineer' 'Data Analytics Lead' 'Data Lead'\n",
      " 'Data Science Engineer' 'Machine Learning Research Engineer'\n",
      " 'NLP Engineer' 'Manager Data Management' 'Machine Learning Developer'\n",
      " '3D Computer Vision Researcher' 'Principal Machine Learning Engineer'\n",
      " 'Data Analytics Engineer' 'Data Analytics Consultant'\n",
      " 'Data Management Specialist' 'Data Science Tech Lead'\n",
      " 'Data Scientist Lead' 'Cloud Data Engineer' 'Data Operations Analyst'\n",
      " 'Marketing Data Analyst' 'Power BI Developer' 'Product Data Scientist'\n",
      " 'Principal Data Architect' 'Machine Learning Manager'\n",
      " 'Lead Machine Learning Engineer' 'ETL Developer' 'Cloud Data Architect'\n",
      " 'Lead Data Engineer' 'Head of Machine Learning' 'Principal Data Analyst'\n",
      " 'Principal Data Engineer' 'Staff Data Scientist' 'Finance Data Analyst']\n"
     ]
    }
   ],
   "source": [
    "print(df_2['job_title'].nunique())\n",
    "print(df_2['job_title'].unique())"
   ]
  },
  {
   "cell_type": "markdown",
   "metadata": {
    "id": "B0cV9KGOsTkl"
   },
   "source": [
    "### Grouping Function"
   ]
  },
  {
   "cell_type": "code",
   "execution_count": 92,
   "metadata": {
    "id": "Q0YZ4L7MsQ_O"
   },
   "outputs": [],
   "source": [
    "def assign_broader_category(job_title):\n",
    "    data_engineering = [\"Data Engineer\", \"Data Analyst\", \"Analytics Engineer\", \"BI Data Analyst\", \"Business Data Analyst\", \"BI Developer\", \"BI Analyst\", \"Business Intelligence Engineer\", \"BI Data Engineer\", \"Power BI Developer\"]\n",
    "    data_scientist = [\"Data Scientist\", \"Applied Scientist\", \"Research Scientist\", \"3D Computer Vision Researcher\", \"Deep Learning Researcher\", \"AI/Computer Vision Engineer\"]\n",
    "    machine_learning = [\"Machine Learning Engineer\", \"ML Engineer\", \"Lead Machine Learning Engineer\", \"Principal Machine Learning Engineer\"]\n",
    "    data_architecture = [\"Data Architect\", \"Big Data Architect\", \"Cloud Data Architect\", \"Principal Data Architect\"]\n",
    "    management = [\"Data Science Manager\", \"Director of Data Science\", \"Head of Data Science\", \"Data Scientist Lead\", \"Head of Machine Learning\", \"Manager Data Management\", \"Data Analytics Manager\"]\n",
    "    if job_title in data_engineering:\n",
    "        return \"Data Engineering\"\n",
    "    elif job_title in data_scientist:\n",
    "        return \"Data Scientist\"\n",
    "    elif job_title in machine_learning:\n",
    "        return \"Machine Learning\"\n",
    "    elif job_title in data_architecture:\n",
    "        return \"Data Architecture\"\n",
    "    elif job_title in management:\n",
    "        return \"Management\"\n",
    "    else:\n",
    "        return \"Others\"\n",
    "    \n",
    "           "
   ]
  },
  {
   "cell_type": "code",
   "execution_count": 116,
   "metadata": {
    "id": "qCCPK1GtshyC"
   },
   "outputs": [],
   "source": [
    "df_2['job_category'] = df_2['job_title'].apply(assign_broader_category)"
   ]
  },
  {
   "cell_type": "code",
   "execution_count": 115,
   "metadata": {
    "id": "0EEyDDN6s48n"
   },
   "outputs": [
    {
     "data": {
      "text/html": [
       "<div>\n",
       "<style scoped>\n",
       "    .dataframe tbody tr th:only-of-type {\n",
       "        vertical-align: middle;\n",
       "    }\n",
       "\n",
       "    .dataframe tbody tr th {\n",
       "        vertical-align: top;\n",
       "    }\n",
       "\n",
       "    .dataframe thead th {\n",
       "        text-align: right;\n",
       "    }\n",
       "</style>\n",
       "<table border=\"1\" class=\"dataframe\">\n",
       "  <thead>\n",
       "    <tr style=\"text-align: right;\">\n",
       "      <th></th>\n",
       "      <th>work_year</th>\n",
       "      <th>experience_level</th>\n",
       "      <th>employment_type</th>\n",
       "      <th>job_title</th>\n",
       "      <th>salary</th>\n",
       "      <th>salary_currency</th>\n",
       "      <th>salary_in_usd</th>\n",
       "      <th>employee_residence</th>\n",
       "      <th>remote_ratio</th>\n",
       "      <th>company_location</th>\n",
       "      <th>company_size</th>\n",
       "      <th>job_category</th>\n",
       "      <th>adjusted_salary</th>\n",
       "    </tr>\n",
       "  </thead>\n",
       "  <tbody>\n",
       "    <tr>\n",
       "      <th>0</th>\n",
       "      <td>2023</td>\n",
       "      <td>Senior</td>\n",
       "      <td>Full Time</td>\n",
       "      <td>Principal Data Scientist</td>\n",
       "      <td>80000</td>\n",
       "      <td>EUR</td>\n",
       "      <td>85847</td>\n",
       "      <td>ES</td>\n",
       "      <td>Remote</td>\n",
       "      <td>ES</td>\n",
       "      <td>L</td>\n",
       "      <td>Others</td>\n",
       "      <td>85847.0</td>\n",
       "    </tr>\n",
       "    <tr>\n",
       "      <th>1</th>\n",
       "      <td>2023</td>\n",
       "      <td>Mid / Intermediete Level</td>\n",
       "      <td>Contract</td>\n",
       "      <td>ML Engineer</td>\n",
       "      <td>30000</td>\n",
       "      <td>USD</td>\n",
       "      <td>30000</td>\n",
       "      <td>US</td>\n",
       "      <td>Remote</td>\n",
       "      <td>US</td>\n",
       "      <td>S</td>\n",
       "      <td>Machine Learning</td>\n",
       "      <td>30000.0</td>\n",
       "    </tr>\n",
       "    <tr>\n",
       "      <th>2</th>\n",
       "      <td>2023</td>\n",
       "      <td>Mid / Intermediete Level</td>\n",
       "      <td>Contract</td>\n",
       "      <td>ML Engineer</td>\n",
       "      <td>25500</td>\n",
       "      <td>USD</td>\n",
       "      <td>25500</td>\n",
       "      <td>US</td>\n",
       "      <td>Remote</td>\n",
       "      <td>US</td>\n",
       "      <td>S</td>\n",
       "      <td>Machine Learning</td>\n",
       "      <td>25500.0</td>\n",
       "    </tr>\n",
       "    <tr>\n",
       "      <th>3</th>\n",
       "      <td>2023</td>\n",
       "      <td>Senior</td>\n",
       "      <td>Full Time</td>\n",
       "      <td>Data Scientist</td>\n",
       "      <td>175000</td>\n",
       "      <td>USD</td>\n",
       "      <td>175000</td>\n",
       "      <td>CA</td>\n",
       "      <td>Remote</td>\n",
       "      <td>CA</td>\n",
       "      <td>M</td>\n",
       "      <td>Data Scientist</td>\n",
       "      <td>175000.0</td>\n",
       "    </tr>\n",
       "    <tr>\n",
       "      <th>4</th>\n",
       "      <td>2023</td>\n",
       "      <td>Senior</td>\n",
       "      <td>Full Time</td>\n",
       "      <td>Data Scientist</td>\n",
       "      <td>120000</td>\n",
       "      <td>USD</td>\n",
       "      <td>120000</td>\n",
       "      <td>CA</td>\n",
       "      <td>Remote</td>\n",
       "      <td>CA</td>\n",
       "      <td>M</td>\n",
       "      <td>Data Scientist</td>\n",
       "      <td>120000.0</td>\n",
       "    </tr>\n",
       "  </tbody>\n",
       "</table>\n",
       "</div>"
      ],
      "text/plain": [
       "   work_year          experience_level employment_type  \\\n",
       "0       2023                    Senior       Full Time   \n",
       "1       2023  Mid / Intermediete Level        Contract   \n",
       "2       2023  Mid / Intermediete Level        Contract   \n",
       "3       2023                    Senior       Full Time   \n",
       "4       2023                    Senior       Full Time   \n",
       "\n",
       "                  job_title  salary salary_currency  salary_in_usd  \\\n",
       "0  Principal Data Scientist   80000             EUR          85847   \n",
       "1               ML Engineer   30000             USD          30000   \n",
       "2               ML Engineer   25500             USD          25500   \n",
       "3            Data Scientist  175000             USD         175000   \n",
       "4            Data Scientist  120000             USD         120000   \n",
       "\n",
       "  employee_residence remote_ratio company_location company_size  \\\n",
       "0                 ES       Remote               ES            L   \n",
       "1                 US       Remote               US            S   \n",
       "2                 US       Remote               US            S   \n",
       "3                 CA       Remote               CA            M   \n",
       "4                 CA       Remote               CA            M   \n",
       "\n",
       "       job_category  adjusted_salary  \n",
       "0            Others          85847.0  \n",
       "1  Machine Learning          30000.0  \n",
       "2  Machine Learning          25500.0  \n",
       "3    Data Scientist         175000.0  \n",
       "4    Data Scientist         120000.0  "
      ]
     },
     "execution_count": 115,
     "metadata": {},
     "output_type": "execute_result"
    }
   ],
   "source": [
    "df_2.head()"
   ]
  },
  {
   "cell_type": "markdown",
   "metadata": {
    "id": "QaseEtC1tVTY"
   },
   "source": [
    "## 1.6 Adjust Salary to Present Values"
   ]
  },
  {
   "cell_type": "code",
   "execution_count": 114,
   "metadata": {
    "id": "CNJY_InCt8mO"
   },
   "outputs": [
    {
     "data": {
      "text/plain": [
       "array([2023, 2022, 2020, 2021])"
      ]
     },
     "execution_count": 114,
     "metadata": {},
     "output_type": "execute_result"
    }
   ],
   "source": [
    "df_2['work_year'].unique()"
   ]
  },
  {
   "cell_type": "markdown",
   "metadata": {
    "id": "ZIeCaiD7teT_"
   },
   "source": [
    "### Inflation Rate"
   ]
  },
  {
   "cell_type": "code",
   "execution_count": 96,
   "metadata": {
    "id": "J8dLwhqOtgTs"
   },
   "outputs": [],
   "source": [
    "# Inflation rates\n",
    "us_inflation_rates = {2019: 0.0181,\n",
    "                      2020: 0.0123,\n",
    "                      2021: 0.0470,\n",
    "                      2022: 0.065}\n",
    "global_inflation_rates = {2019: 0.0219,\n",
    "                          2020: 0.0192,\n",
    "                          2021: 0.0350,\n",
    "                          2022: 0.088}\n",
    "\n",
    "def adjust_salary(x):\n",
    "    year = x ['work_year']\n",
    "    ori_salary = x['salary_in_usd']\n",
    "    currency = x['salary_currency']\n",
    "    \n",
    "    if year == 2023:\n",
    "        return ori_salary\n",
    "    else:\n",
    "        adjust_salary = ori_salary\n",
    "        \n",
    "        for yr in range(year,2023):\n",
    "            if currency == 'USD':\n",
    "                inflation_rate = us_inflation_rates[yr]\n",
    "            else:\n",
    "                inflation_rate = global_inflation_rates[yr]\n",
    "        adjust_salary = adjust_salary * (1 + inflation_rate)\n",
    "    return adjust_salary\n",
    "            "
   ]
  },
  {
   "cell_type": "code",
   "execution_count": 113,
   "metadata": {
    "id": "6RdFJojgvQHP"
   },
   "outputs": [],
   "source": [
    "df_2['adjusted_salary'] = df_2.apply(adjust_salary, axis =1)"
   ]
  },
  {
   "cell_type": "code",
   "execution_count": 112,
   "metadata": {
    "id": "wye-m4qe3bER"
   },
   "outputs": [
    {
     "data": {
      "text/html": [
       "<div>\n",
       "<style scoped>\n",
       "    .dataframe tbody tr th:only-of-type {\n",
       "        vertical-align: middle;\n",
       "    }\n",
       "\n",
       "    .dataframe tbody tr th {\n",
       "        vertical-align: top;\n",
       "    }\n",
       "\n",
       "    .dataframe thead th {\n",
       "        text-align: right;\n",
       "    }\n",
       "</style>\n",
       "<table border=\"1\" class=\"dataframe\">\n",
       "  <thead>\n",
       "    <tr style=\"text-align: right;\">\n",
       "      <th></th>\n",
       "      <th>work_year</th>\n",
       "      <th>salary_currency</th>\n",
       "      <th>salary_in_usd</th>\n",
       "      <th>adjusted_salary</th>\n",
       "    </tr>\n",
       "  </thead>\n",
       "  <tbody>\n",
       "    <tr>\n",
       "      <th>3750</th>\n",
       "      <td>2020</td>\n",
       "      <td>USD</td>\n",
       "      <td>412000</td>\n",
       "      <td>438780.00</td>\n",
       "    </tr>\n",
       "    <tr>\n",
       "      <th>3751</th>\n",
       "      <td>2021</td>\n",
       "      <td>USD</td>\n",
       "      <td>151000</td>\n",
       "      <td>160815.00</td>\n",
       "    </tr>\n",
       "    <tr>\n",
       "      <th>3752</th>\n",
       "      <td>2020</td>\n",
       "      <td>USD</td>\n",
       "      <td>105000</td>\n",
       "      <td>111825.00</td>\n",
       "    </tr>\n",
       "    <tr>\n",
       "      <th>3753</th>\n",
       "      <td>2020</td>\n",
       "      <td>USD</td>\n",
       "      <td>100000</td>\n",
       "      <td>106500.00</td>\n",
       "    </tr>\n",
       "    <tr>\n",
       "      <th>3754</th>\n",
       "      <td>2021</td>\n",
       "      <td>INR</td>\n",
       "      <td>94665</td>\n",
       "      <td>102995.52</td>\n",
       "    </tr>\n",
       "  </tbody>\n",
       "</table>\n",
       "</div>"
      ],
      "text/plain": [
       "      work_year salary_currency  salary_in_usd  adjusted_salary\n",
       "3750       2020             USD         412000        438780.00\n",
       "3751       2021             USD         151000        160815.00\n",
       "3752       2020             USD         105000        111825.00\n",
       "3753       2020             USD         100000        106500.00\n",
       "3754       2021             INR          94665        102995.52"
      ]
     },
     "execution_count": 112,
     "metadata": {},
     "output_type": "execute_result"
    }
   ],
   "source": [
    "df_2[['work_year', 'salary_currency', 'salary_in_usd','adjusted_salary']].tail()"
   ]
  },
  {
   "cell_type": "code",
   "execution_count": 99,
   "metadata": {},
   "outputs": [
    {
     "data": {
      "text/html": [
       "<div>\n",
       "<style scoped>\n",
       "    .dataframe tbody tr th:only-of-type {\n",
       "        vertical-align: middle;\n",
       "    }\n",
       "\n",
       "    .dataframe tbody tr th {\n",
       "        vertical-align: top;\n",
       "    }\n",
       "\n",
       "    .dataframe thead th {\n",
       "        text-align: right;\n",
       "    }\n",
       "</style>\n",
       "<table border=\"1\" class=\"dataframe\">\n",
       "  <thead>\n",
       "    <tr style=\"text-align: right;\">\n",
       "      <th></th>\n",
       "      <th>work_year</th>\n",
       "      <th>experience_level</th>\n",
       "      <th>employment_type</th>\n",
       "      <th>job_title</th>\n",
       "      <th>salary</th>\n",
       "      <th>salary_currency</th>\n",
       "      <th>salary_in_usd</th>\n",
       "      <th>employee_residence</th>\n",
       "      <th>remote_ratio</th>\n",
       "      <th>company_location</th>\n",
       "      <th>company_size</th>\n",
       "      <th>job_category</th>\n",
       "      <th>adjusted_salary</th>\n",
       "    </tr>\n",
       "  </thead>\n",
       "  <tbody>\n",
       "    <tr>\n",
       "      <th>0</th>\n",
       "      <td>2023</td>\n",
       "      <td>Senior</td>\n",
       "      <td>Full Time</td>\n",
       "      <td>Principal Data Scientist</td>\n",
       "      <td>80000</td>\n",
       "      <td>EUR</td>\n",
       "      <td>85847</td>\n",
       "      <td>ES</td>\n",
       "      <td>Remote</td>\n",
       "      <td>ES</td>\n",
       "      <td>L</td>\n",
       "      <td>Others</td>\n",
       "      <td>85847.0</td>\n",
       "    </tr>\n",
       "    <tr>\n",
       "      <th>1</th>\n",
       "      <td>2023</td>\n",
       "      <td>Mid / Intermediete Level</td>\n",
       "      <td>Contract</td>\n",
       "      <td>ML Engineer</td>\n",
       "      <td>30000</td>\n",
       "      <td>USD</td>\n",
       "      <td>30000</td>\n",
       "      <td>US</td>\n",
       "      <td>Remote</td>\n",
       "      <td>US</td>\n",
       "      <td>S</td>\n",
       "      <td>Machine Learning</td>\n",
       "      <td>30000.0</td>\n",
       "    </tr>\n",
       "    <tr>\n",
       "      <th>2</th>\n",
       "      <td>2023</td>\n",
       "      <td>Mid / Intermediete Level</td>\n",
       "      <td>Contract</td>\n",
       "      <td>ML Engineer</td>\n",
       "      <td>25500</td>\n",
       "      <td>USD</td>\n",
       "      <td>25500</td>\n",
       "      <td>US</td>\n",
       "      <td>Remote</td>\n",
       "      <td>US</td>\n",
       "      <td>S</td>\n",
       "      <td>Machine Learning</td>\n",
       "      <td>25500.0</td>\n",
       "    </tr>\n",
       "    <tr>\n",
       "      <th>3</th>\n",
       "      <td>2023</td>\n",
       "      <td>Senior</td>\n",
       "      <td>Full Time</td>\n",
       "      <td>Data Scientist</td>\n",
       "      <td>175000</td>\n",
       "      <td>USD</td>\n",
       "      <td>175000</td>\n",
       "      <td>CA</td>\n",
       "      <td>Remote</td>\n",
       "      <td>CA</td>\n",
       "      <td>M</td>\n",
       "      <td>Data Scientist</td>\n",
       "      <td>175000.0</td>\n",
       "    </tr>\n",
       "    <tr>\n",
       "      <th>4</th>\n",
       "      <td>2023</td>\n",
       "      <td>Senior</td>\n",
       "      <td>Full Time</td>\n",
       "      <td>Data Scientist</td>\n",
       "      <td>120000</td>\n",
       "      <td>USD</td>\n",
       "      <td>120000</td>\n",
       "      <td>CA</td>\n",
       "      <td>Remote</td>\n",
       "      <td>CA</td>\n",
       "      <td>M</td>\n",
       "      <td>Data Scientist</td>\n",
       "      <td>120000.0</td>\n",
       "    </tr>\n",
       "  </tbody>\n",
       "</table>\n",
       "</div>"
      ],
      "text/plain": [
       "   work_year          experience_level employment_type  \\\n",
       "0       2023                    Senior       Full Time   \n",
       "1       2023  Mid / Intermediete Level        Contract   \n",
       "2       2023  Mid / Intermediete Level        Contract   \n",
       "3       2023                    Senior       Full Time   \n",
       "4       2023                    Senior       Full Time   \n",
       "\n",
       "                  job_title  salary salary_currency  salary_in_usd  \\\n",
       "0  Principal Data Scientist   80000             EUR          85847   \n",
       "1               ML Engineer   30000             USD          30000   \n",
       "2               ML Engineer   25500             USD          25500   \n",
       "3            Data Scientist  175000             USD         175000   \n",
       "4            Data Scientist  120000             USD         120000   \n",
       "\n",
       "  employee_residence remote_ratio company_location company_size  \\\n",
       "0                 ES       Remote               ES            L   \n",
       "1                 US       Remote               US            S   \n",
       "2                 US       Remote               US            S   \n",
       "3                 CA       Remote               CA            M   \n",
       "4                 CA       Remote               CA            M   \n",
       "\n",
       "       job_category  adjusted_salary  \n",
       "0            Others          85847.0  \n",
       "1  Machine Learning          30000.0  \n",
       "2  Machine Learning          25500.0  \n",
       "3    Data Scientist         175000.0  \n",
       "4    Data Scientist         120000.0  "
      ]
     },
     "execution_count": 99,
     "metadata": {},
     "output_type": "execute_result"
    }
   ],
   "source": [
    "df_2.head()"
   ]
  },
  {
   "cell_type": "markdown",
   "metadata": {
    "id": "Q-K9vkBn38sJ"
   },
   "source": [
    "# SOAL No.1\n",
    "Show the median adjusted data scientist salary, for each experience level"
   ]
  },
  {
   "cell_type": "markdown",
   "metadata": {
    "id": "8jewsRCGQ8XG"
   },
   "source": [
    "## JAWABAN No.1"
   ]
  },
  {
   "cell_type": "code",
   "execution_count": 100,
   "metadata": {
    "id": "jOhoaMKpTKGC"
   },
   "outputs": [],
   "source": [
    "# filter job_tite ; data scientist\n",
    "df_science = df_2[df_2['job_title'] == 'Data Scientist']"
   ]
  },
  {
   "cell_type": "code",
   "execution_count": 101,
   "metadata": {
    "scrolled": true
   },
   "outputs": [
    {
     "data": {
      "text/html": [
       "<div>\n",
       "<style scoped>\n",
       "    .dataframe tbody tr th:only-of-type {\n",
       "        vertical-align: middle;\n",
       "    }\n",
       "\n",
       "    .dataframe tbody tr th {\n",
       "        vertical-align: top;\n",
       "    }\n",
       "\n",
       "    .dataframe thead th {\n",
       "        text-align: right;\n",
       "    }\n",
       "</style>\n",
       "<table border=\"1\" class=\"dataframe\">\n",
       "  <thead>\n",
       "    <tr style=\"text-align: right;\">\n",
       "      <th></th>\n",
       "      <th>work_year</th>\n",
       "      <th>experience_level</th>\n",
       "      <th>employment_type</th>\n",
       "      <th>job_title</th>\n",
       "      <th>salary</th>\n",
       "      <th>salary_currency</th>\n",
       "      <th>salary_in_usd</th>\n",
       "      <th>employee_residence</th>\n",
       "      <th>remote_ratio</th>\n",
       "      <th>company_location</th>\n",
       "      <th>company_size</th>\n",
       "      <th>job_category</th>\n",
       "      <th>adjusted_salary</th>\n",
       "    </tr>\n",
       "  </thead>\n",
       "  <tbody>\n",
       "    <tr>\n",
       "      <th>3</th>\n",
       "      <td>2023</td>\n",
       "      <td>Senior</td>\n",
       "      <td>Full Time</td>\n",
       "      <td>Data Scientist</td>\n",
       "      <td>175000</td>\n",
       "      <td>USD</td>\n",
       "      <td>175000</td>\n",
       "      <td>CA</td>\n",
       "      <td>Remote</td>\n",
       "      <td>CA</td>\n",
       "      <td>M</td>\n",
       "      <td>Data Scientist</td>\n",
       "      <td>175000.000</td>\n",
       "    </tr>\n",
       "    <tr>\n",
       "      <th>4</th>\n",
       "      <td>2023</td>\n",
       "      <td>Senior</td>\n",
       "      <td>Full Time</td>\n",
       "      <td>Data Scientist</td>\n",
       "      <td>120000</td>\n",
       "      <td>USD</td>\n",
       "      <td>120000</td>\n",
       "      <td>CA</td>\n",
       "      <td>Remote</td>\n",
       "      <td>CA</td>\n",
       "      <td>M</td>\n",
       "      <td>Data Scientist</td>\n",
       "      <td>120000.000</td>\n",
       "    </tr>\n",
       "    <tr>\n",
       "      <th>7</th>\n",
       "      <td>2023</td>\n",
       "      <td>Senior</td>\n",
       "      <td>Full Time</td>\n",
       "      <td>Data Scientist</td>\n",
       "      <td>219000</td>\n",
       "      <td>USD</td>\n",
       "      <td>219000</td>\n",
       "      <td>CA</td>\n",
       "      <td>On-site</td>\n",
       "      <td>CA</td>\n",
       "      <td>M</td>\n",
       "      <td>Data Scientist</td>\n",
       "      <td>219000.000</td>\n",
       "    </tr>\n",
       "    <tr>\n",
       "      <th>8</th>\n",
       "      <td>2023</td>\n",
       "      <td>Senior</td>\n",
       "      <td>Full Time</td>\n",
       "      <td>Data Scientist</td>\n",
       "      <td>141000</td>\n",
       "      <td>USD</td>\n",
       "      <td>141000</td>\n",
       "      <td>CA</td>\n",
       "      <td>On-site</td>\n",
       "      <td>CA</td>\n",
       "      <td>M</td>\n",
       "      <td>Data Scientist</td>\n",
       "      <td>141000.000</td>\n",
       "    </tr>\n",
       "    <tr>\n",
       "      <th>9</th>\n",
       "      <td>2023</td>\n",
       "      <td>Senior</td>\n",
       "      <td>Full Time</td>\n",
       "      <td>Data Scientist</td>\n",
       "      <td>147100</td>\n",
       "      <td>USD</td>\n",
       "      <td>147100</td>\n",
       "      <td>US</td>\n",
       "      <td>On-site</td>\n",
       "      <td>US</td>\n",
       "      <td>M</td>\n",
       "      <td>Data Scientist</td>\n",
       "      <td>147100.000</td>\n",
       "    </tr>\n",
       "    <tr>\n",
       "      <th>...</th>\n",
       "      <td>...</td>\n",
       "      <td>...</td>\n",
       "      <td>...</td>\n",
       "      <td>...</td>\n",
       "      <td>...</td>\n",
       "      <td>...</td>\n",
       "      <td>...</td>\n",
       "      <td>...</td>\n",
       "      <td>...</td>\n",
       "      <td>...</td>\n",
       "      <td>...</td>\n",
       "      <td>...</td>\n",
       "      <td>...</td>\n",
       "    </tr>\n",
       "    <tr>\n",
       "      <th>3741</th>\n",
       "      <td>2020</td>\n",
       "      <td>Mid / Intermediete Level</td>\n",
       "      <td>Full Time</td>\n",
       "      <td>Data Scientist</td>\n",
       "      <td>118000</td>\n",
       "      <td>USD</td>\n",
       "      <td>118000</td>\n",
       "      <td>US</td>\n",
       "      <td>Remote</td>\n",
       "      <td>US</td>\n",
       "      <td>M</td>\n",
       "      <td>Data Scientist</td>\n",
       "      <td>125670.000</td>\n",
       "    </tr>\n",
       "    <tr>\n",
       "      <th>3742</th>\n",
       "      <td>2020</td>\n",
       "      <td>Mid / Intermediete Level</td>\n",
       "      <td>Full Time</td>\n",
       "      <td>Data Scientist</td>\n",
       "      <td>138350</td>\n",
       "      <td>USD</td>\n",
       "      <td>138350</td>\n",
       "      <td>US</td>\n",
       "      <td>Remote</td>\n",
       "      <td>US</td>\n",
       "      <td>M</td>\n",
       "      <td>Data Scientist</td>\n",
       "      <td>147342.750</td>\n",
       "    </tr>\n",
       "    <tr>\n",
       "      <th>3746</th>\n",
       "      <td>2021</td>\n",
       "      <td>Mid / Intermediete Level</td>\n",
       "      <td>Full Time</td>\n",
       "      <td>Data Scientist</td>\n",
       "      <td>160000</td>\n",
       "      <td>SGD</td>\n",
       "      <td>119059</td>\n",
       "      <td>SG</td>\n",
       "      <td>Remote</td>\n",
       "      <td>IL</td>\n",
       "      <td>M</td>\n",
       "      <td>Data Scientist</td>\n",
       "      <td>129536.192</td>\n",
       "    </tr>\n",
       "    <tr>\n",
       "      <th>3750</th>\n",
       "      <td>2020</td>\n",
       "      <td>Senior</td>\n",
       "      <td>Full Time</td>\n",
       "      <td>Data Scientist</td>\n",
       "      <td>412000</td>\n",
       "      <td>USD</td>\n",
       "      <td>412000</td>\n",
       "      <td>US</td>\n",
       "      <td>Remote</td>\n",
       "      <td>US</td>\n",
       "      <td>L</td>\n",
       "      <td>Data Scientist</td>\n",
       "      <td>438780.000</td>\n",
       "    </tr>\n",
       "    <tr>\n",
       "      <th>3752</th>\n",
       "      <td>2020</td>\n",
       "      <td>Entry Level</td>\n",
       "      <td>Full Time</td>\n",
       "      <td>Data Scientist</td>\n",
       "      <td>105000</td>\n",
       "      <td>USD</td>\n",
       "      <td>105000</td>\n",
       "      <td>US</td>\n",
       "      <td>Remote</td>\n",
       "      <td>US</td>\n",
       "      <td>S</td>\n",
       "      <td>Data Scientist</td>\n",
       "      <td>111825.000</td>\n",
       "    </tr>\n",
       "  </tbody>\n",
       "</table>\n",
       "<p>538 rows × 13 columns</p>\n",
       "</div>"
      ],
      "text/plain": [
       "      work_year          experience_level employment_type       job_title  \\\n",
       "3          2023                    Senior       Full Time  Data Scientist   \n",
       "4          2023                    Senior       Full Time  Data Scientist   \n",
       "7          2023                    Senior       Full Time  Data Scientist   \n",
       "8          2023                    Senior       Full Time  Data Scientist   \n",
       "9          2023                    Senior       Full Time  Data Scientist   \n",
       "...         ...                       ...             ...             ...   \n",
       "3741       2020  Mid / Intermediete Level       Full Time  Data Scientist   \n",
       "3742       2020  Mid / Intermediete Level       Full Time  Data Scientist   \n",
       "3746       2021  Mid / Intermediete Level       Full Time  Data Scientist   \n",
       "3750       2020                    Senior       Full Time  Data Scientist   \n",
       "3752       2020               Entry Level       Full Time  Data Scientist   \n",
       "\n",
       "      salary salary_currency  salary_in_usd employee_residence remote_ratio  \\\n",
       "3     175000             USD         175000                 CA       Remote   \n",
       "4     120000             USD         120000                 CA       Remote   \n",
       "7     219000             USD         219000                 CA      On-site   \n",
       "8     141000             USD         141000                 CA      On-site   \n",
       "9     147100             USD         147100                 US      On-site   \n",
       "...      ...             ...            ...                ...          ...   \n",
       "3741  118000             USD         118000                 US       Remote   \n",
       "3742  138350             USD         138350                 US       Remote   \n",
       "3746  160000             SGD         119059                 SG       Remote   \n",
       "3750  412000             USD         412000                 US       Remote   \n",
       "3752  105000             USD         105000                 US       Remote   \n",
       "\n",
       "     company_location company_size    job_category  adjusted_salary  \n",
       "3                  CA            M  Data Scientist       175000.000  \n",
       "4                  CA            M  Data Scientist       120000.000  \n",
       "7                  CA            M  Data Scientist       219000.000  \n",
       "8                  CA            M  Data Scientist       141000.000  \n",
       "9                  US            M  Data Scientist       147100.000  \n",
       "...               ...          ...             ...              ...  \n",
       "3741               US            M  Data Scientist       125670.000  \n",
       "3742               US            M  Data Scientist       147342.750  \n",
       "3746               IL            M  Data Scientist       129536.192  \n",
       "3750               US            L  Data Scientist       438780.000  \n",
       "3752               US            S  Data Scientist       111825.000  \n",
       "\n",
       "[538 rows x 13 columns]"
      ]
     },
     "execution_count": 101,
     "metadata": {},
     "output_type": "execute_result"
    }
   ],
   "source": [
    "df_science"
   ]
  },
  {
   "cell_type": "code",
   "execution_count": 102,
   "metadata": {},
   "outputs": [
    {
     "data": {
      "text/html": [
       "<div>\n",
       "<style scoped>\n",
       "    .dataframe tbody tr th:only-of-type {\n",
       "        vertical-align: middle;\n",
       "    }\n",
       "\n",
       "    .dataframe tbody tr th {\n",
       "        vertical-align: top;\n",
       "    }\n",
       "\n",
       "    .dataframe thead th {\n",
       "        text-align: right;\n",
       "    }\n",
       "</style>\n",
       "<table border=\"1\" class=\"dataframe\">\n",
       "  <thead>\n",
       "    <tr style=\"text-align: right;\">\n",
       "      <th></th>\n",
       "      <th>adjusted_salary</th>\n",
       "    </tr>\n",
       "    <tr>\n",
       "      <th>experience_level</th>\n",
       "      <th></th>\n",
       "    </tr>\n",
       "  </thead>\n",
       "  <tbody>\n",
       "    <tr>\n",
       "      <th>Executive</th>\n",
       "      <td>177167.500</td>\n",
       "    </tr>\n",
       "    <tr>\n",
       "      <th>Senior</th>\n",
       "      <td>161880.000</td>\n",
       "    </tr>\n",
       "    <tr>\n",
       "      <th>Mid / Intermediete Level</th>\n",
       "      <td>93847.992</td>\n",
       "    </tr>\n",
       "    <tr>\n",
       "      <th>Entry Level</th>\n",
       "      <td>74540.000</td>\n",
       "    </tr>\n",
       "  </tbody>\n",
       "</table>\n",
       "</div>"
      ],
      "text/plain": [
       "                          adjusted_salary\n",
       "experience_level                         \n",
       "Executive                      177167.500\n",
       "Senior                         161880.000\n",
       "Mid / Intermediete Level        93847.992\n",
       "Entry Level                     74540.000"
      ]
     },
     "execution_count": 102,
     "metadata": {},
     "output_type": "execute_result"
    }
   ],
   "source": [
    "df_science.groupby('experience_level').agg({'adjusted_salary' : 'median'}).sort_values('adjusted_salary', ascending = False)"
   ]
  },
  {
   "cell_type": "markdown",
   "metadata": {
    "id": "zsEhP58W4Dsx"
   },
   "source": [
    "# SOAL No. 2\n",
    "Show the number of records for each company_location, sorted descending"
   ]
  },
  {
   "cell_type": "markdown",
   "metadata": {
    "id": "cJEGiqtFQ2xG"
   },
   "source": [
    "## JAWABAN No.2"
   ]
  },
  {
   "cell_type": "code",
   "execution_count": 103,
   "metadata": {},
   "outputs": [
    {
     "data": {
      "text/plain": [
       "company_location\n",
       "US    1929\n",
       "GB     155\n",
       "CA      83\n",
       "IN      57\n",
       "DE      55\n",
       "      ... \n",
       "MT       1\n",
       "MD       1\n",
       "PH       1\n",
       "SK       1\n",
       "VN       1\n",
       "Length: 72, dtype: int64"
      ]
     },
     "execution_count": 103,
     "metadata": {},
     "output_type": "execute_result"
    }
   ],
   "source": [
    "df_2.groupby('company_location').size().sort_values(ascending = False)"
   ]
  },
  {
   "cell_type": "markdown",
   "metadata": {
    "id": "5DIUucfa4PsX"
   },
   "source": [
    "# SOAL No.3\n",
    "From this data, show the median adjusted salary of employee who works for company located in Indonesia, do you think that value represents the salary in Indonesia? why? why not?"
   ]
  },
  {
   "cell_type": "markdown",
   "metadata": {
    "id": "zVeT1MXvRDDm"
   },
   "source": [
    "## JAWABAN No.3"
   ]
  },
  {
   "cell_type": "code",
   "execution_count": 106,
   "metadata": {},
   "outputs": [
    {
     "data": {
      "text/html": [
       "<div>\n",
       "<style scoped>\n",
       "    .dataframe tbody tr th:only-of-type {\n",
       "        vertical-align: middle;\n",
       "    }\n",
       "\n",
       "    .dataframe tbody tr th {\n",
       "        vertical-align: top;\n",
       "    }\n",
       "\n",
       "    .dataframe thead th {\n",
       "        text-align: right;\n",
       "    }\n",
       "</style>\n",
       "<table border=\"1\" class=\"dataframe\">\n",
       "  <thead>\n",
       "    <tr style=\"text-align: right;\">\n",
       "      <th></th>\n",
       "      <th>work_year</th>\n",
       "      <th>experience_level</th>\n",
       "      <th>employment_type</th>\n",
       "      <th>job_title</th>\n",
       "      <th>salary</th>\n",
       "      <th>salary_currency</th>\n",
       "      <th>salary_in_usd</th>\n",
       "      <th>employee_residence</th>\n",
       "      <th>remote_ratio</th>\n",
       "      <th>company_location</th>\n",
       "      <th>company_size</th>\n",
       "      <th>job_category</th>\n",
       "      <th>adjusted_salary</th>\n",
       "    </tr>\n",
       "  </thead>\n",
       "  <tbody>\n",
       "    <tr>\n",
       "      <th>3061</th>\n",
       "      <td>2022</td>\n",
       "      <td>Mid / Intermediete Level</td>\n",
       "      <td>Full Time</td>\n",
       "      <td>Data Scientist</td>\n",
       "      <td>4200000</td>\n",
       "      <td>INR</td>\n",
       "      <td>53416</td>\n",
       "      <td>IN</td>\n",
       "      <td>Remote</td>\n",
       "      <td>ID</td>\n",
       "      <td>L</td>\n",
       "      <td>Data Scientist</td>\n",
       "      <td>58116.608</td>\n",
       "    </tr>\n",
       "    <tr>\n",
       "      <th>3139</th>\n",
       "      <td>2022</td>\n",
       "      <td>Entry Level</td>\n",
       "      <td>Full Time</td>\n",
       "      <td>Data Analyst</td>\n",
       "      <td>15000</td>\n",
       "      <td>USD</td>\n",
       "      <td>15000</td>\n",
       "      <td>ID</td>\n",
       "      <td>On-site</td>\n",
       "      <td>ID</td>\n",
       "      <td>L</td>\n",
       "      <td>Data Engineering</td>\n",
       "      <td>15975.000</td>\n",
       "    </tr>\n",
       "  </tbody>\n",
       "</table>\n",
       "</div>"
      ],
      "text/plain": [
       "      work_year          experience_level employment_type       job_title  \\\n",
       "3061       2022  Mid / Intermediete Level       Full Time  Data Scientist   \n",
       "3139       2022               Entry Level       Full Time    Data Analyst   \n",
       "\n",
       "       salary salary_currency  salary_in_usd employee_residence remote_ratio  \\\n",
       "3061  4200000             INR          53416                 IN       Remote   \n",
       "3139    15000             USD          15000                 ID      On-site   \n",
       "\n",
       "     company_location company_size      job_category  adjusted_salary  \n",
       "3061               ID            L    Data Scientist        58116.608  \n",
       "3139               ID            L  Data Engineering        15975.000  "
      ]
     },
     "execution_count": 106,
     "metadata": {},
     "output_type": "execute_result"
    }
   ],
   "source": [
    "df_indo"
   ]
  },
  {
   "cell_type": "code",
   "execution_count": 105,
   "metadata": {
    "id": "VO2uDtO0TPV0"
   },
   "outputs": [
    {
     "data": {
      "text/plain": [
       "np.float64(37045.804000000004)"
      ]
     },
     "execution_count": 105,
     "metadata": {},
     "output_type": "execute_result"
    }
   ],
   "source": [
    "#location based\n",
    "\n",
    "df_indo = df_2[df_2['company_location'] == 'ID']\n",
    "df_indo['adjusted_salary'].median()"
   ]
  },
  {
   "cell_type": "code",
   "execution_count": 107,
   "metadata": {},
   "outputs": [
    {
     "data": {
      "text/plain": [
       "np.float64(134107.0)"
      ]
     },
     "execution_count": 107,
     "metadata": {},
     "output_type": "execute_result"
    }
   ],
   "source": [
    "#location based\n",
    "\n",
    "df_global = df_2[df_2['company_location'] != 'ID']\n",
    "df_global['adjusted_salary'].median()"
   ]
  },
  {
   "cell_type": "code",
   "execution_count": 108,
   "metadata": {},
   "outputs": [
    {
     "data": {
      "text/plain": [
       "np.float64(58116.60800000001)"
      ]
     },
     "execution_count": 108,
     "metadata": {},
     "output_type": "execute_result"
    }
   ],
   "source": [
    "#experience - mid id\n",
    "\n",
    "df_experience1 = df_indo[df_indo['experience_level'] == 'Mid / Intermediete Level']\n",
    "df_experience1['adjusted_salary'].median()"
   ]
  },
  {
   "cell_type": "code",
   "execution_count": 109,
   "metadata": {},
   "outputs": [
    {
     "data": {
      "text/plain": [
       "np.float64(99204.75)"
      ]
     },
     "execution_count": 109,
     "metadata": {},
     "output_type": "execute_result"
    }
   ],
   "source": [
    "#experience - mid global\n",
    "df_experience2 = df_global[df_global['experience_level'] == 'Mid / Intermediete Level']\n",
    "df_experience2['adjusted_salary'].median()"
   ]
  },
  {
   "cell_type": "code",
   "execution_count": 110,
   "metadata": {},
   "outputs": [
    {
     "data": {
      "text/plain": [
       "np.float64(15975.0)"
      ]
     },
     "execution_count": 110,
     "metadata": {},
     "output_type": "execute_result"
    }
   ],
   "source": [
    "#exp entry - id\n",
    "df_entry = df_indo[df_indo['experience_level'] == 'Entry Level']\n",
    "df_entry['adjusted_salary'].median()"
   ]
  },
  {
   "cell_type": "code",
   "execution_count": 111,
   "metadata": {},
   "outputs": [
    {
     "data": {
      "text/plain": [
       "np.float64(65000.0)"
      ]
     },
     "execution_count": 111,
     "metadata": {},
     "output_type": "execute_result"
    }
   ],
   "source": [
    "#exp entry - global\n",
    "df_entry2 = df_global[df_global['experience_level'] == 'Entry Level']\n",
    "df_entry2['adjusted_salary'].median()"
   ]
  },
  {
   "cell_type": "markdown",
   "metadata": {
    "id": "-3o4YDHATPiu"
   },
   "source": [
    "**Kesimpulan** <br>\n",
    "kesimpulan berdasarkan  (tabel :#location based)\n",
    "- indonesia : $37045 / thn -> Rp. 47.605.427 / bln\n",
    "- global : $134107 / thn -> Rp. 167.633.750 / bln\n",
    "\n",
    "Berdasarkan data BPS pada tahun 2023, median penghasilan kelas pekerja di indonesia adalah Rp. 2.500.000. (via x @hrdbacot)\n",
    "\n",
    "Dilansir situs jobstreet Indonesia pada bulan agustus tahun 2024 range gaji seorang data scientist di Indonesia sebesar Rp. 8.600.000 - Rp. 11.600.000\n",
    "\n",
    "Berdasarkan situs lain glassdoor.com seorang senior data scientist di Indonesia berkisar antara Rp.17.000.000 - Rp.32.000.000 perbulan\n",
    "\n",
    "Dari hasil 3 penelusuran data tersebut, dapat disimpulkan kalau data diatas tidak merpresentasikan nilai gaji pekerja di Indonesia.\n",
    "\n",
    "kesimpulan tambahan berdasarkan lokasi dan experience level (tabel #experience)\n",
    "- mid : indo : $58116 / thn -> Rp. 74.785.606 / bln\n",
    "- entry : indo : $15975 / thn -> Rp. 20.557.162 / bln\n",
    "\n",
    "Hasil yang sama juga didapatkan apabila membreakdown gaji dengan lokasi di Indonesia berdasarkan level experience. Dimana data diatas masih jauh lebih tinggi jika dibandingkan dengan realita gaji di Indonesia"
   ]
  },
  {
   "cell_type": "code",
   "execution_count": null,
   "metadata": {},
   "outputs": [],
   "source": []
  }
 ],
 "metadata": {
  "colab": {
   "provenance": []
  },
  "kernelspec": {
   "display_name": "Python 3 (ipykernel)",
   "language": "python",
   "name": "python3"
  },
  "language_info": {
   "codemirror_mode": {
    "name": "ipython",
    "version": 3
   },
   "file_extension": ".py",
   "mimetype": "text/x-python",
   "name": "python",
   "nbconvert_exporter": "python",
   "pygments_lexer": "ipython3",
   "version": "3.12.5"
  }
 },
 "nbformat": 4,
 "nbformat_minor": 4
}
